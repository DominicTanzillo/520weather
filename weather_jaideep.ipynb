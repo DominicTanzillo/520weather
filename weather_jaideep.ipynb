{
  "cells": [
    {
      "cell_type": "markdown",
      "metadata": {
        "nbgrader": {
          "grade": false,
          "grade_id": "cell-22d0f94f6aa32bda",
          "locked": true,
          "schema_version": 3,
          "solution": false,
          "task": false
        },
        "id": "wWGoF_OhO3TP"
      },
      "source": [
        "<a href='https://ai.meng.duke.edu'> = <img align=\"left\" style=\"padding-top:10px;\" src=https://storage.googleapis.com/aipi_datasets/Duke-AIPI-Logo.png>"
      ]
    },
    {
      "cell_type": "markdown",
      "metadata": {
        "nbgrader": {
          "grade": false,
          "grade_id": "cell-f7f4291b2367dcbf",
          "locked": true,
          "schema_version": 3,
          "solution": false,
          "task": false
        },
        "id": "AZClYgOhO3TQ"
      },
      "source": [
        "# Predicting Weather from RDU's Weather Station"
      ]
    },
    {
      "cell_type": "markdown",
      "metadata": {
        "nbgrader": {
          "grade": false,
          "grade_id": "cell-72ed6de038e2c607",
          "locked": true,
          "schema_version": 3,
          "solution": false,
          "task": false
        },
        "id": "ZPs3oIDQO3TQ"
      },
      "source": [
        "## Background\n",
        "\n",
        "\n",
        "\n",
        "Our task in this exercise is to build the pipeline to convert raw data into features to use in a ML model. The model itself that you will use has already been set up for you (a linear regression model which has been put into a separate script you will import) and **you cannot change the model**, only the data pipeline.\n",
        "\n",
        "## Data\n",
        "You have been given two csv files of data to use in your analysis.  The first file (\"2011-2012_bikes.csv\") contains historical demand data from the past two years of operation. The dataset contains the following columns:\n",
        "- dteday : date\n",
        "- hr : hour (0 to 23)\n",
        "- cnt: count of total rental bikes\n",
        "\n",
        "The second file (\"2011-2012_weather.csv\") contains weather information for the same time period.  This dataset contains the following columns:  \n",
        "- dteday : date\n",
        "- hr : hour (0 to 23)\n",
        "- weathersit :\n",
        "    - 1: Clear, Few clouds, Partly cloudy, Partly cloudy\n",
        "    - 2: Mist + Cloudy, Mist + Broken clouds, Mist + Few clouds, Mist\n",
        "    - 3: Light Snow, Light Rain + Thunderstorm + Scattered clouds, Light Rain + Scattered clouds\n",
        "    - 4: Heavy Rain + Ice Pallets + Thunderstorm + Mist, Snow + Fog\n",
        "- temp : Temperature in Celsius\n",
        "- atemp: Feels-like temperature in Celsius\n",
        "- hum: Humidity\n",
        "- windspeed: Wind speed\n",
        "\n",
        "You may use some or all of the data provided, not all of it is necessarily useful.\n",
        "\n",
        "## Approach\n",
        "Your task in this exercise is to build the pipeline from raw data to features ready for modeling.  There are many possible approaches to doing this, some are better, some are worse.  \n"
      ]
    },
    {
      "cell_type": "code",
      "source": [
        "!pip -q install scikit-learn pandas numpy matplotlib\n",
        "\n",
        "import pandas as pd\n",
        "import numpy as np\n",
        "from pathlib import Path\n",
        "import matplotlib.pyplot as plt\n",
        "\n",
        "from sklearn.linear_model import LinearRegression\n",
        "from sklearn.metrics import mean_squared_error, mean_absolute_error, r2_score\n",
        "from sklearn.preprocessing import StandardScaler\n"
      ],
      "metadata": {
        "id": "tGj_Q8S9Ppww"
      },
      "execution_count": 1,
      "outputs": []
    },
    {
      "cell_type": "code",
      "source": [
        "RAW_CSV = \"https://raw.githubusercontent.com/DominicTanzillo/520weather/refs/heads/main/Data_Cleaned_Final/forecast_sept2025.csv?token=GHSAT0AAAAAADM6U56PRVKNARNTJKHRN7O62HK2IEQ\"\n",
        "\n",
        "df = pd.read_csv(RAW_CSV)\n",
        "print(\"Columns:\", list(df.columns))\n",
        "df.head()\n"
      ],
      "metadata": {
        "id": "f5r8PEgnQZUb",
        "outputId": "da59c497-0c79-4667-f584-529eaab78576",
        "colab": {
          "base_uri": "https://localhost:8080/",
          "height": 224
        }
      },
      "execution_count": 5,
      "outputs": [
        {
          "output_type": "stream",
          "name": "stdout",
          "text": [
            "Columns: ['datetime', 'actual', 'predicted']\n"
          ]
        },
        {
          "output_type": "execute_result",
          "data": {
            "text/plain": [
              "   datetime  actual  predicted\n",
              "0     93886    17.0  20.405966\n",
              "1     93887    17.0  19.339070\n",
              "2     93888    17.0  18.918692\n",
              "3     93889    17.0  18.500590\n",
              "4     93890    17.0  18.583350"
            ],
            "text/html": [
              "\n",
              "  <div id=\"df-acb570ff-3a6a-4219-9443-1588a9fdba8e\" class=\"colab-df-container\">\n",
              "    <div>\n",
              "<style scoped>\n",
              "    .dataframe tbody tr th:only-of-type {\n",
              "        vertical-align: middle;\n",
              "    }\n",
              "\n",
              "    .dataframe tbody tr th {\n",
              "        vertical-align: top;\n",
              "    }\n",
              "\n",
              "    .dataframe thead th {\n",
              "        text-align: right;\n",
              "    }\n",
              "</style>\n",
              "<table border=\"1\" class=\"dataframe\">\n",
              "  <thead>\n",
              "    <tr style=\"text-align: right;\">\n",
              "      <th></th>\n",
              "      <th>datetime</th>\n",
              "      <th>actual</th>\n",
              "      <th>predicted</th>\n",
              "    </tr>\n",
              "  </thead>\n",
              "  <tbody>\n",
              "    <tr>\n",
              "      <th>0</th>\n",
              "      <td>93886</td>\n",
              "      <td>17.0</td>\n",
              "      <td>20.405966</td>\n",
              "    </tr>\n",
              "    <tr>\n",
              "      <th>1</th>\n",
              "      <td>93887</td>\n",
              "      <td>17.0</td>\n",
              "      <td>19.339070</td>\n",
              "    </tr>\n",
              "    <tr>\n",
              "      <th>2</th>\n",
              "      <td>93888</td>\n",
              "      <td>17.0</td>\n",
              "      <td>18.918692</td>\n",
              "    </tr>\n",
              "    <tr>\n",
              "      <th>3</th>\n",
              "      <td>93889</td>\n",
              "      <td>17.0</td>\n",
              "      <td>18.500590</td>\n",
              "    </tr>\n",
              "    <tr>\n",
              "      <th>4</th>\n",
              "      <td>93890</td>\n",
              "      <td>17.0</td>\n",
              "      <td>18.583350</td>\n",
              "    </tr>\n",
              "  </tbody>\n",
              "</table>\n",
              "</div>\n",
              "    <div class=\"colab-df-buttons\">\n",
              "\n",
              "  <div class=\"colab-df-container\">\n",
              "    <button class=\"colab-df-convert\" onclick=\"convertToInteractive('df-acb570ff-3a6a-4219-9443-1588a9fdba8e')\"\n",
              "            title=\"Convert this dataframe to an interactive table.\"\n",
              "            style=\"display:none;\">\n",
              "\n",
              "  <svg xmlns=\"http://www.w3.org/2000/svg\" height=\"24px\" viewBox=\"0 -960 960 960\">\n",
              "    <path d=\"M120-120v-720h720v720H120Zm60-500h600v-160H180v160Zm220 220h160v-160H400v160Zm0 220h160v-160H400v160ZM180-400h160v-160H180v160Zm440 0h160v-160H620v160ZM180-180h160v-160H180v160Zm440 0h160v-160H620v160Z\"/>\n",
              "  </svg>\n",
              "    </button>\n",
              "\n",
              "  <style>\n",
              "    .colab-df-container {\n",
              "      display:flex;\n",
              "      gap: 12px;\n",
              "    }\n",
              "\n",
              "    .colab-df-convert {\n",
              "      background-color: #E8F0FE;\n",
              "      border: none;\n",
              "      border-radius: 50%;\n",
              "      cursor: pointer;\n",
              "      display: none;\n",
              "      fill: #1967D2;\n",
              "      height: 32px;\n",
              "      padding: 0 0 0 0;\n",
              "      width: 32px;\n",
              "    }\n",
              "\n",
              "    .colab-df-convert:hover {\n",
              "      background-color: #E2EBFA;\n",
              "      box-shadow: 0px 1px 2px rgba(60, 64, 67, 0.3), 0px 1px 3px 1px rgba(60, 64, 67, 0.15);\n",
              "      fill: #174EA6;\n",
              "    }\n",
              "\n",
              "    .colab-df-buttons div {\n",
              "      margin-bottom: 4px;\n",
              "    }\n",
              "\n",
              "    [theme=dark] .colab-df-convert {\n",
              "      background-color: #3B4455;\n",
              "      fill: #D2E3FC;\n",
              "    }\n",
              "\n",
              "    [theme=dark] .colab-df-convert:hover {\n",
              "      background-color: #434B5C;\n",
              "      box-shadow: 0px 1px 3px 1px rgba(0, 0, 0, 0.15);\n",
              "      filter: drop-shadow(0px 1px 2px rgba(0, 0, 0, 0.3));\n",
              "      fill: #FFFFFF;\n",
              "    }\n",
              "  </style>\n",
              "\n",
              "    <script>\n",
              "      const buttonEl =\n",
              "        document.querySelector('#df-acb570ff-3a6a-4219-9443-1588a9fdba8e button.colab-df-convert');\n",
              "      buttonEl.style.display =\n",
              "        google.colab.kernel.accessAllowed ? 'block' : 'none';\n",
              "\n",
              "      async function convertToInteractive(key) {\n",
              "        const element = document.querySelector('#df-acb570ff-3a6a-4219-9443-1588a9fdba8e');\n",
              "        const dataTable =\n",
              "          await google.colab.kernel.invokeFunction('convertToInteractive',\n",
              "                                                    [key], {});\n",
              "        if (!dataTable) return;\n",
              "\n",
              "        const docLinkHtml = 'Like what you see? Visit the ' +\n",
              "          '<a target=\"_blank\" href=https://colab.research.google.com/notebooks/data_table.ipynb>data table notebook</a>'\n",
              "          + ' to learn more about interactive tables.';\n",
              "        element.innerHTML = '';\n",
              "        dataTable['output_type'] = 'display_data';\n",
              "        await google.colab.output.renderOutput(dataTable, element);\n",
              "        const docLink = document.createElement('div');\n",
              "        docLink.innerHTML = docLinkHtml;\n",
              "        element.appendChild(docLink);\n",
              "      }\n",
              "    </script>\n",
              "  </div>\n",
              "\n",
              "\n",
              "    <div id=\"df-d57a534a-3cab-4b99-9beb-f38dffce4b14\">\n",
              "      <button class=\"colab-df-quickchart\" onclick=\"quickchart('df-d57a534a-3cab-4b99-9beb-f38dffce4b14')\"\n",
              "                title=\"Suggest charts\"\n",
              "                style=\"display:none;\">\n",
              "\n",
              "<svg xmlns=\"http://www.w3.org/2000/svg\" height=\"24px\"viewBox=\"0 0 24 24\"\n",
              "     width=\"24px\">\n",
              "    <g>\n",
              "        <path d=\"M19 3H5c-1.1 0-2 .9-2 2v14c0 1.1.9 2 2 2h14c1.1 0 2-.9 2-2V5c0-1.1-.9-2-2-2zM9 17H7v-7h2v7zm4 0h-2V7h2v10zm4 0h-2v-4h2v4z\"/>\n",
              "    </g>\n",
              "</svg>\n",
              "      </button>\n",
              "\n",
              "<style>\n",
              "  .colab-df-quickchart {\n",
              "      --bg-color: #E8F0FE;\n",
              "      --fill-color: #1967D2;\n",
              "      --hover-bg-color: #E2EBFA;\n",
              "      --hover-fill-color: #174EA6;\n",
              "      --disabled-fill-color: #AAA;\n",
              "      --disabled-bg-color: #DDD;\n",
              "  }\n",
              "\n",
              "  [theme=dark] .colab-df-quickchart {\n",
              "      --bg-color: #3B4455;\n",
              "      --fill-color: #D2E3FC;\n",
              "      --hover-bg-color: #434B5C;\n",
              "      --hover-fill-color: #FFFFFF;\n",
              "      --disabled-bg-color: #3B4455;\n",
              "      --disabled-fill-color: #666;\n",
              "  }\n",
              "\n",
              "  .colab-df-quickchart {\n",
              "    background-color: var(--bg-color);\n",
              "    border: none;\n",
              "    border-radius: 50%;\n",
              "    cursor: pointer;\n",
              "    display: none;\n",
              "    fill: var(--fill-color);\n",
              "    height: 32px;\n",
              "    padding: 0;\n",
              "    width: 32px;\n",
              "  }\n",
              "\n",
              "  .colab-df-quickchart:hover {\n",
              "    background-color: var(--hover-bg-color);\n",
              "    box-shadow: 0 1px 2px rgba(60, 64, 67, 0.3), 0 1px 3px 1px rgba(60, 64, 67, 0.15);\n",
              "    fill: var(--button-hover-fill-color);\n",
              "  }\n",
              "\n",
              "  .colab-df-quickchart-complete:disabled,\n",
              "  .colab-df-quickchart-complete:disabled:hover {\n",
              "    background-color: var(--disabled-bg-color);\n",
              "    fill: var(--disabled-fill-color);\n",
              "    box-shadow: none;\n",
              "  }\n",
              "\n",
              "  .colab-df-spinner {\n",
              "    border: 2px solid var(--fill-color);\n",
              "    border-color: transparent;\n",
              "    border-bottom-color: var(--fill-color);\n",
              "    animation:\n",
              "      spin 1s steps(1) infinite;\n",
              "  }\n",
              "\n",
              "  @keyframes spin {\n",
              "    0% {\n",
              "      border-color: transparent;\n",
              "      border-bottom-color: var(--fill-color);\n",
              "      border-left-color: var(--fill-color);\n",
              "    }\n",
              "    20% {\n",
              "      border-color: transparent;\n",
              "      border-left-color: var(--fill-color);\n",
              "      border-top-color: var(--fill-color);\n",
              "    }\n",
              "    30% {\n",
              "      border-color: transparent;\n",
              "      border-left-color: var(--fill-color);\n",
              "      border-top-color: var(--fill-color);\n",
              "      border-right-color: var(--fill-color);\n",
              "    }\n",
              "    40% {\n",
              "      border-color: transparent;\n",
              "      border-right-color: var(--fill-color);\n",
              "      border-top-color: var(--fill-color);\n",
              "    }\n",
              "    60% {\n",
              "      border-color: transparent;\n",
              "      border-right-color: var(--fill-color);\n",
              "    }\n",
              "    80% {\n",
              "      border-color: transparent;\n",
              "      border-right-color: var(--fill-color);\n",
              "      border-bottom-color: var(--fill-color);\n",
              "    }\n",
              "    90% {\n",
              "      border-color: transparent;\n",
              "      border-bottom-color: var(--fill-color);\n",
              "    }\n",
              "  }\n",
              "</style>\n",
              "\n",
              "      <script>\n",
              "        async function quickchart(key) {\n",
              "          const quickchartButtonEl =\n",
              "            document.querySelector('#' + key + ' button');\n",
              "          quickchartButtonEl.disabled = true;  // To prevent multiple clicks.\n",
              "          quickchartButtonEl.classList.add('colab-df-spinner');\n",
              "          try {\n",
              "            const charts = await google.colab.kernel.invokeFunction(\n",
              "                'suggestCharts', [key], {});\n",
              "          } catch (error) {\n",
              "            console.error('Error during call to suggestCharts:', error);\n",
              "          }\n",
              "          quickchartButtonEl.classList.remove('colab-df-spinner');\n",
              "          quickchartButtonEl.classList.add('colab-df-quickchart-complete');\n",
              "        }\n",
              "        (() => {\n",
              "          let quickchartButtonEl =\n",
              "            document.querySelector('#df-d57a534a-3cab-4b99-9beb-f38dffce4b14 button');\n",
              "          quickchartButtonEl.style.display =\n",
              "            google.colab.kernel.accessAllowed ? 'block' : 'none';\n",
              "        })();\n",
              "      </script>\n",
              "    </div>\n",
              "\n",
              "    </div>\n",
              "  </div>\n"
            ],
            "application/vnd.google.colaboratory.intrinsic+json": {
              "type": "dataframe",
              "variable_name": "df",
              "summary": "{\n  \"name\": \"df\",\n  \"rows\": 313,\n  \"fields\": [\n    {\n      \"column\": \"datetime\",\n      \"properties\": {\n        \"dtype\": \"number\",\n        \"std\": 90,\n        \"min\": 93886,\n        \"max\": 94198,\n        \"num_unique_values\": 313,\n        \"samples\": [\n          93932,\n          93895,\n          94092\n        ],\n        \"semantic_type\": \"\",\n        \"description\": \"\"\n      }\n    },\n    {\n      \"column\": \"actual\",\n      \"properties\": {\n        \"dtype\": \"number\",\n        \"std\": 4.493002533062243,\n        \"min\": 15.0,\n        \"max\": 33.9,\n        \"num_unique_values\": 21,\n        \"samples\": [\n          17.0,\n          21.1,\n          31.0\n        ],\n        \"semantic_type\": \"\",\n        \"description\": \"\"\n      }\n    },\n    {\n      \"column\": \"predicted\",\n      \"properties\": {\n        \"dtype\": \"number\",\n        \"std\": 2.5785405423687013,\n        \"min\": 16.639769573264328,\n        \"max\": 27.552092749870717,\n        \"num_unique_values\": 313,\n        \"samples\": [\n          23.386291122438863,\n          17.709636970888926,\n          23.16812753489784\n        ],\n        \"semantic_type\": \"\",\n        \"description\": \"\"\n      }\n    }\n  ]\n}"
            }
          },
          "metadata": {},
          "execution_count": 5
        }
      ]
    },
    {
      "cell_type": "code",
      "source": [
        "print(list(df.columns))\n",
        "df.head()\n"
      ],
      "metadata": {
        "id": "5nCjUPHaRTuX",
        "outputId": "7c0b9c4f-0e53-4aa0-edbc-51faa235277c",
        "colab": {
          "base_uri": "https://localhost:8080/",
          "height": 224
        }
      },
      "execution_count": 7,
      "outputs": [
        {
          "output_type": "stream",
          "name": "stdout",
          "text": [
            "['datetime', 'actual', 'predicted']\n"
          ]
        },
        {
          "output_type": "execute_result",
          "data": {
            "text/plain": [
              "                       datetime  actual  predicted\n",
              "0 1970-01-01 00:00:00.000093886    17.0  20.405966\n",
              "1 1970-01-01 00:00:00.000093887    17.0  19.339070\n",
              "2 1970-01-01 00:00:00.000093888    17.0  18.918692\n",
              "3 1970-01-01 00:00:00.000093889    17.0  18.500590\n",
              "4 1970-01-01 00:00:00.000093890    17.0  18.583350"
            ],
            "text/html": [
              "\n",
              "  <div id=\"df-bce2a14e-d6b4-461f-8ffe-2ad2ac4980f0\" class=\"colab-df-container\">\n",
              "    <div>\n",
              "<style scoped>\n",
              "    .dataframe tbody tr th:only-of-type {\n",
              "        vertical-align: middle;\n",
              "    }\n",
              "\n",
              "    .dataframe tbody tr th {\n",
              "        vertical-align: top;\n",
              "    }\n",
              "\n",
              "    .dataframe thead th {\n",
              "        text-align: right;\n",
              "    }\n",
              "</style>\n",
              "<table border=\"1\" class=\"dataframe\">\n",
              "  <thead>\n",
              "    <tr style=\"text-align: right;\">\n",
              "      <th></th>\n",
              "      <th>datetime</th>\n",
              "      <th>actual</th>\n",
              "      <th>predicted</th>\n",
              "    </tr>\n",
              "  </thead>\n",
              "  <tbody>\n",
              "    <tr>\n",
              "      <th>0</th>\n",
              "      <td>1970-01-01 00:00:00.000093886</td>\n",
              "      <td>17.0</td>\n",
              "      <td>20.405966</td>\n",
              "    </tr>\n",
              "    <tr>\n",
              "      <th>1</th>\n",
              "      <td>1970-01-01 00:00:00.000093887</td>\n",
              "      <td>17.0</td>\n",
              "      <td>19.339070</td>\n",
              "    </tr>\n",
              "    <tr>\n",
              "      <th>2</th>\n",
              "      <td>1970-01-01 00:00:00.000093888</td>\n",
              "      <td>17.0</td>\n",
              "      <td>18.918692</td>\n",
              "    </tr>\n",
              "    <tr>\n",
              "      <th>3</th>\n",
              "      <td>1970-01-01 00:00:00.000093889</td>\n",
              "      <td>17.0</td>\n",
              "      <td>18.500590</td>\n",
              "    </tr>\n",
              "    <tr>\n",
              "      <th>4</th>\n",
              "      <td>1970-01-01 00:00:00.000093890</td>\n",
              "      <td>17.0</td>\n",
              "      <td>18.583350</td>\n",
              "    </tr>\n",
              "  </tbody>\n",
              "</table>\n",
              "</div>\n",
              "    <div class=\"colab-df-buttons\">\n",
              "\n",
              "  <div class=\"colab-df-container\">\n",
              "    <button class=\"colab-df-convert\" onclick=\"convertToInteractive('df-bce2a14e-d6b4-461f-8ffe-2ad2ac4980f0')\"\n",
              "            title=\"Convert this dataframe to an interactive table.\"\n",
              "            style=\"display:none;\">\n",
              "\n",
              "  <svg xmlns=\"http://www.w3.org/2000/svg\" height=\"24px\" viewBox=\"0 -960 960 960\">\n",
              "    <path d=\"M120-120v-720h720v720H120Zm60-500h600v-160H180v160Zm220 220h160v-160H400v160Zm0 220h160v-160H400v160ZM180-400h160v-160H180v160Zm440 0h160v-160H620v160ZM180-180h160v-160H180v160Zm440 0h160v-160H620v160Z\"/>\n",
              "  </svg>\n",
              "    </button>\n",
              "\n",
              "  <style>\n",
              "    .colab-df-container {\n",
              "      display:flex;\n",
              "      gap: 12px;\n",
              "    }\n",
              "\n",
              "    .colab-df-convert {\n",
              "      background-color: #E8F0FE;\n",
              "      border: none;\n",
              "      border-radius: 50%;\n",
              "      cursor: pointer;\n",
              "      display: none;\n",
              "      fill: #1967D2;\n",
              "      height: 32px;\n",
              "      padding: 0 0 0 0;\n",
              "      width: 32px;\n",
              "    }\n",
              "\n",
              "    .colab-df-convert:hover {\n",
              "      background-color: #E2EBFA;\n",
              "      box-shadow: 0px 1px 2px rgba(60, 64, 67, 0.3), 0px 1px 3px 1px rgba(60, 64, 67, 0.15);\n",
              "      fill: #174EA6;\n",
              "    }\n",
              "\n",
              "    .colab-df-buttons div {\n",
              "      margin-bottom: 4px;\n",
              "    }\n",
              "\n",
              "    [theme=dark] .colab-df-convert {\n",
              "      background-color: #3B4455;\n",
              "      fill: #D2E3FC;\n",
              "    }\n",
              "\n",
              "    [theme=dark] .colab-df-convert:hover {\n",
              "      background-color: #434B5C;\n",
              "      box-shadow: 0px 1px 3px 1px rgba(0, 0, 0, 0.15);\n",
              "      filter: drop-shadow(0px 1px 2px rgba(0, 0, 0, 0.3));\n",
              "      fill: #FFFFFF;\n",
              "    }\n",
              "  </style>\n",
              "\n",
              "    <script>\n",
              "      const buttonEl =\n",
              "        document.querySelector('#df-bce2a14e-d6b4-461f-8ffe-2ad2ac4980f0 button.colab-df-convert');\n",
              "      buttonEl.style.display =\n",
              "        google.colab.kernel.accessAllowed ? 'block' : 'none';\n",
              "\n",
              "      async function convertToInteractive(key) {\n",
              "        const element = document.querySelector('#df-bce2a14e-d6b4-461f-8ffe-2ad2ac4980f0');\n",
              "        const dataTable =\n",
              "          await google.colab.kernel.invokeFunction('convertToInteractive',\n",
              "                                                    [key], {});\n",
              "        if (!dataTable) return;\n",
              "\n",
              "        const docLinkHtml = 'Like what you see? Visit the ' +\n",
              "          '<a target=\"_blank\" href=https://colab.research.google.com/notebooks/data_table.ipynb>data table notebook</a>'\n",
              "          + ' to learn more about interactive tables.';\n",
              "        element.innerHTML = '';\n",
              "        dataTable['output_type'] = 'display_data';\n",
              "        await google.colab.output.renderOutput(dataTable, element);\n",
              "        const docLink = document.createElement('div');\n",
              "        docLink.innerHTML = docLinkHtml;\n",
              "        element.appendChild(docLink);\n",
              "      }\n",
              "    </script>\n",
              "  </div>\n",
              "\n",
              "\n",
              "    <div id=\"df-bfd69a3c-7193-44a7-9c11-a33f3ba4a1de\">\n",
              "      <button class=\"colab-df-quickchart\" onclick=\"quickchart('df-bfd69a3c-7193-44a7-9c11-a33f3ba4a1de')\"\n",
              "                title=\"Suggest charts\"\n",
              "                style=\"display:none;\">\n",
              "\n",
              "<svg xmlns=\"http://www.w3.org/2000/svg\" height=\"24px\"viewBox=\"0 0 24 24\"\n",
              "     width=\"24px\">\n",
              "    <g>\n",
              "        <path d=\"M19 3H5c-1.1 0-2 .9-2 2v14c0 1.1.9 2 2 2h14c1.1 0 2-.9 2-2V5c0-1.1-.9-2-2-2zM9 17H7v-7h2v7zm4 0h-2V7h2v10zm4 0h-2v-4h2v4z\"/>\n",
              "    </g>\n",
              "</svg>\n",
              "      </button>\n",
              "\n",
              "<style>\n",
              "  .colab-df-quickchart {\n",
              "      --bg-color: #E8F0FE;\n",
              "      --fill-color: #1967D2;\n",
              "      --hover-bg-color: #E2EBFA;\n",
              "      --hover-fill-color: #174EA6;\n",
              "      --disabled-fill-color: #AAA;\n",
              "      --disabled-bg-color: #DDD;\n",
              "  }\n",
              "\n",
              "  [theme=dark] .colab-df-quickchart {\n",
              "      --bg-color: #3B4455;\n",
              "      --fill-color: #D2E3FC;\n",
              "      --hover-bg-color: #434B5C;\n",
              "      --hover-fill-color: #FFFFFF;\n",
              "      --disabled-bg-color: #3B4455;\n",
              "      --disabled-fill-color: #666;\n",
              "  }\n",
              "\n",
              "  .colab-df-quickchart {\n",
              "    background-color: var(--bg-color);\n",
              "    border: none;\n",
              "    border-radius: 50%;\n",
              "    cursor: pointer;\n",
              "    display: none;\n",
              "    fill: var(--fill-color);\n",
              "    height: 32px;\n",
              "    padding: 0;\n",
              "    width: 32px;\n",
              "  }\n",
              "\n",
              "  .colab-df-quickchart:hover {\n",
              "    background-color: var(--hover-bg-color);\n",
              "    box-shadow: 0 1px 2px rgba(60, 64, 67, 0.3), 0 1px 3px 1px rgba(60, 64, 67, 0.15);\n",
              "    fill: var(--button-hover-fill-color);\n",
              "  }\n",
              "\n",
              "  .colab-df-quickchart-complete:disabled,\n",
              "  .colab-df-quickchart-complete:disabled:hover {\n",
              "    background-color: var(--disabled-bg-color);\n",
              "    fill: var(--disabled-fill-color);\n",
              "    box-shadow: none;\n",
              "  }\n",
              "\n",
              "  .colab-df-spinner {\n",
              "    border: 2px solid var(--fill-color);\n",
              "    border-color: transparent;\n",
              "    border-bottom-color: var(--fill-color);\n",
              "    animation:\n",
              "      spin 1s steps(1) infinite;\n",
              "  }\n",
              "\n",
              "  @keyframes spin {\n",
              "    0% {\n",
              "      border-color: transparent;\n",
              "      border-bottom-color: var(--fill-color);\n",
              "      border-left-color: var(--fill-color);\n",
              "    }\n",
              "    20% {\n",
              "      border-color: transparent;\n",
              "      border-left-color: var(--fill-color);\n",
              "      border-top-color: var(--fill-color);\n",
              "    }\n",
              "    30% {\n",
              "      border-color: transparent;\n",
              "      border-left-color: var(--fill-color);\n",
              "      border-top-color: var(--fill-color);\n",
              "      border-right-color: var(--fill-color);\n",
              "    }\n",
              "    40% {\n",
              "      border-color: transparent;\n",
              "      border-right-color: var(--fill-color);\n",
              "      border-top-color: var(--fill-color);\n",
              "    }\n",
              "    60% {\n",
              "      border-color: transparent;\n",
              "      border-right-color: var(--fill-color);\n",
              "    }\n",
              "    80% {\n",
              "      border-color: transparent;\n",
              "      border-right-color: var(--fill-color);\n",
              "      border-bottom-color: var(--fill-color);\n",
              "    }\n",
              "    90% {\n",
              "      border-color: transparent;\n",
              "      border-bottom-color: var(--fill-color);\n",
              "    }\n",
              "  }\n",
              "</style>\n",
              "\n",
              "      <script>\n",
              "        async function quickchart(key) {\n",
              "          const quickchartButtonEl =\n",
              "            document.querySelector('#' + key + ' button');\n",
              "          quickchartButtonEl.disabled = true;  // To prevent multiple clicks.\n",
              "          quickchartButtonEl.classList.add('colab-df-spinner');\n",
              "          try {\n",
              "            const charts = await google.colab.kernel.invokeFunction(\n",
              "                'suggestCharts', [key], {});\n",
              "          } catch (error) {\n",
              "            console.error('Error during call to suggestCharts:', error);\n",
              "          }\n",
              "          quickchartButtonEl.classList.remove('colab-df-spinner');\n",
              "          quickchartButtonEl.classList.add('colab-df-quickchart-complete');\n",
              "        }\n",
              "        (() => {\n",
              "          let quickchartButtonEl =\n",
              "            document.querySelector('#df-bfd69a3c-7193-44a7-9c11-a33f3ba4a1de button');\n",
              "          quickchartButtonEl.style.display =\n",
              "            google.colab.kernel.accessAllowed ? 'block' : 'none';\n",
              "        })();\n",
              "      </script>\n",
              "    </div>\n",
              "\n",
              "    </div>\n",
              "  </div>\n"
            ],
            "application/vnd.google.colaboratory.intrinsic+json": {
              "type": "dataframe",
              "variable_name": "df",
              "summary": "{\n  \"name\": \"df\",\n  \"rows\": 313,\n  \"fields\": [\n    {\n      \"column\": \"datetime\",\n      \"properties\": {\n        \"dtype\": \"date\",\n        \"min\": \"1970-01-01 00:00:00.000093886\",\n        \"max\": \"1970-01-01 00:00:00.000094198\",\n        \"num_unique_values\": 313,\n        \"samples\": [\n          \"1970-01-01 00:00:00.000093932\",\n          \"1970-01-01 00:00:00.000093895\",\n          \"1970-01-01 00:00:00.000094092\"\n        ],\n        \"semantic_type\": \"\",\n        \"description\": \"\"\n      }\n    },\n    {\n      \"column\": \"actual\",\n      \"properties\": {\n        \"dtype\": \"number\",\n        \"std\": 4.493002533062243,\n        \"min\": 15.0,\n        \"max\": 33.9,\n        \"num_unique_values\": 21,\n        \"samples\": [\n          17.0,\n          21.1,\n          31.0\n        ],\n        \"semantic_type\": \"\",\n        \"description\": \"\"\n      }\n    },\n    {\n      \"column\": \"predicted\",\n      \"properties\": {\n        \"dtype\": \"number\",\n        \"std\": 2.5785405423687013,\n        \"min\": 16.639769573264328,\n        \"max\": 27.552092749870717,\n        \"num_unique_values\": 313,\n        \"samples\": [\n          23.386291122438863,\n          17.709636970888926,\n          23.16812753489784\n        ],\n        \"semantic_type\": \"\",\n        \"description\": \"\"\n      }\n    }\n  ]\n}"
            }
          },
          "metadata": {},
          "execution_count": 7
        }
      ]
    },
    {
      "cell_type": "code",
      "source": [
        "def add_time_feats(dd, dt=\"datetime\"):\n",
        "    dd = dd.copy()\n",
        "    dd[\"hour\"] = dd[dt].dt.hour\n",
        "    dd[\"doy\"]  = dd[dt].dt.dayofyear\n",
        "    dd[\"dow\"]  = dd[dt].dt.dayofweek\n",
        "    dd[\"hour_sin\"] = np.sin(2*np.pi*dd[\"hour\"]/24.0)\n",
        "    dd[\"hour_cos\"] = np.cos(2*np.pi*dd[\"hour\"]/24.0)\n",
        "    dd[\"doy_sin\"]  = np.sin(2*np.pi*dd[\"doy\"]/365.25)\n",
        "    dd[\"doy_cos\"]  = np.cos(2*np.pi*dd[\"doy\"]/365.25)\n",
        "    return dd\n",
        "\n",
        "def add_lags(dd, col=\"actual\", lags=(1,24)):\n",
        "    dd = dd.copy()\n",
        "    for L in lags:\n",
        "        dd[f\"{col}_lag{L}\"] = dd[col].shift(L)\n",
        "    return dd\n",
        "\n",
        "def add_roll(dd, col=\"actual\", win=24):\n",
        "    dd = dd.copy()\n",
        "    dd[f\"{col}_roll{win}\"] = dd[col].shift(1).rolling(win=win, min_periods=win//2).mean()\n",
        "    return dd\n",
        "\n",
        "df_feat = add_time_feats(df, \"datetime\")\n",
        "df_feat = add_lags(df_feat, \"actual\", lags=(1,24))\n",
        "df_feat = add_roll(df_feat, \"actual\", win=24)\n",
        "\n",
        "# Drop rows that became NaN due to lags/rolling\n",
        "dfm = df_feat.dropna().copy()\n",
        "print(\"Rows after feature build:\", len(dfm))\n",
        "dfm.head()\n"
      ],
      "metadata": {
        "id": "Lg5TNrGNREzd",
        "outputId": "020f028b-b479-4b22-f00b-ef1e3ac61990",
        "colab": {
          "base_uri": "https://localhost:8080/",
          "height": 216
        }
      },
      "execution_count": 6,
      "outputs": [
        {
          "output_type": "error",
          "ename": "ValueError",
          "evalue": "Could not find a temperature column; rename/set temp_col to your column.",
          "traceback": [
            "\u001b[0;31m---------------------------------------------------------------------------\u001b[0m",
            "\u001b[0;31mValueError\u001b[0m                                Traceback (most recent call last)",
            "\u001b[0;32m/tmp/ipython-input-1801404696.py\u001b[0m in \u001b[0;36m<cell line: 0>\u001b[0;34m()\u001b[0m\n\u001b[1;32m     15\u001b[0m \u001b[0mtemp_candidates\u001b[0m \u001b[0;34m=\u001b[0m \u001b[0;34m[\u001b[0m\u001b[0mc\u001b[0m \u001b[0;32mfor\u001b[0m \u001b[0mc\u001b[0m \u001b[0;32min\u001b[0m \u001b[0mdf\u001b[0m\u001b[0;34m.\u001b[0m\u001b[0mcolumns\u001b[0m \u001b[0;32mif\u001b[0m \u001b[0mc\u001b[0m\u001b[0;34m.\u001b[0m\u001b[0mlower\u001b[0m\u001b[0;34m(\u001b[0m\u001b[0;34m)\u001b[0m \u001b[0;32min\u001b[0m \u001b[0;34m[\u001b[0m\u001b[0;34m\"temp\"\u001b[0m\u001b[0;34m,\u001b[0m\u001b[0;34m\"temperature\"\u001b[0m\u001b[0;34m,\u001b[0m\u001b[0;34m\"temp_c\"\u001b[0m\u001b[0;34m,\u001b[0m\u001b[0;34m\"t2m\"\u001b[0m\u001b[0;34m,\u001b[0m\u001b[0;34m\"air_temperature\"\u001b[0m\u001b[0;34m]\u001b[0m\u001b[0;34m]\u001b[0m\u001b[0;34m\u001b[0m\u001b[0;34m\u001b[0m\u001b[0m\n\u001b[1;32m     16\u001b[0m \u001b[0;32mif\u001b[0m \u001b[0;32mnot\u001b[0m \u001b[0mtemp_candidates\u001b[0m\u001b[0;34m:\u001b[0m\u001b[0;34m\u001b[0m\u001b[0;34m\u001b[0m\u001b[0m\n\u001b[0;32m---> 17\u001b[0;31m     \u001b[0;32mraise\u001b[0m \u001b[0mValueError\u001b[0m\u001b[0;34m(\u001b[0m\u001b[0;34m\"Could not find a temperature column; rename/set temp_col to your column.\"\u001b[0m\u001b[0;34m)\u001b[0m\u001b[0;34m\u001b[0m\u001b[0;34m\u001b[0m\u001b[0m\n\u001b[0m\u001b[1;32m     18\u001b[0m \u001b[0mtemp_col\u001b[0m \u001b[0;34m=\u001b[0m \u001b[0mtemp_candidates\u001b[0m\u001b[0;34m[\u001b[0m\u001b[0;36m0\u001b[0m\u001b[0;34m]\u001b[0m\u001b[0;34m\u001b[0m\u001b[0;34m\u001b[0m\u001b[0m\n\u001b[1;32m     19\u001b[0m \u001b[0;34m\u001b[0m\u001b[0m\n",
            "\u001b[0;31mValueError\u001b[0m: Could not find a temperature column; rename/set temp_col to your column."
          ]
        }
      ]
    },
    {
      "cell_type": "code",
      "metadata": {
        "nbgrader": {
          "grade": false,
          "grade_id": "cell-caaa3b69ecda13df",
          "locked": true,
          "schema_version": 3,
          "solution": false,
          "task": false
        },
        "ExecuteTime": {
          "end_time": "2025-09-17T15:23:23.930157Z",
          "start_time": "2025-09-17T15:23:23.925416Z"
        },
        "id": "I71yxMp1O3TR"
      },
      "source": [
        "# Run this before any other code cell\n",
        "# This downloads the csv data files into the same directory where you have saved this notebook\n",
        "\n",
        "import urllib.request\n",
        "from pathlib import Path\n",
        "import os\n",
        "path = Path()\n",
        "\n",
        "# Dictionary of file names and download links\n",
        "files = {'2011-2012_bikes.csv':'https://storage.googleapis.com/aipi_datasets/2011-2012_bikes.csv',\n",
        "        '2011-2012_weather_messy.csv': 'https://storage.googleapis.com/aipi_datasets/2011-2012_weather_messy.csv'}\n",
        "\n",
        "# Download each file\n",
        "for key,value in files.items():\n",
        "    filename = path/key\n",
        "    url = value\n",
        "    # If the file does not already exist in the directory, download it\n",
        "    if not os.path.exists(filename):\n",
        "        urllib.request.urlretrieve(url,filename)"
      ],
      "outputs": [],
      "execution_count": 1
    },
    {
      "cell_type": "code",
      "metadata": {
        "nbgrader": {
          "grade": false,
          "grade_id": "cell-81357d8c0527b793",
          "locked": true,
          "schema_version": 3,
          "solution": false,
          "task": false
        },
        "ExecuteTime": {
          "end_time": "2025-09-17T15:23:23.938574Z",
          "start_time": "2025-09-17T15:23:23.935432Z"
        },
        "id": "CHCog-MxO3TS"
      },
      "source": [
        "import numpy as np\n",
        "import pandas as pd\n",
        "import matplotlib.pyplot as plt\n",
        "import seaborn as sns\n",
        "\n",
        "from sklearn.linear_model import LinearRegression\n",
        "from sklearn import metrics\n",
        "import pandas as pd\n",
        "\n",
        "def run_model(X_train,y_train,X_test,y_test):\n",
        "\n",
        "    lin_model = LinearRegression()\n",
        "    lin_model.fit(X_train,y_train)\n",
        "    y_pred = lin_model.predict(X_test)\n",
        "    test_mse = metrics.mean_squared_error(y_test, y_pred)\n",
        "    return test_mse\n",
        "\n",
        "import warnings\n",
        "warnings.filterwarnings(\"ignore\")\n",
        "\n",
        "pd.options.display.float_format = '{:,.2f}'.format"
      ],
      "outputs": [],
      "execution_count": 2
    },
    {
      "cell_type": "markdown",
      "metadata": {
        "nbgrader": {
          "grade": false,
          "grade_id": "cell-efcc307a64ed278a",
          "locked": true,
          "schema_version": 3,
          "solution": false,
          "task": false
        },
        "id": "RnuGsh7YO3TS"
      },
      "source": [
        "### Load data\n",
        "Create and run a function `load_data()` to do your data loading and any merging needed.  You can specify the arguments and returns as needed."
      ]
    },
    {
      "cell_type": "code",
      "metadata": {
        "nbgrader": {
          "grade": false,
          "grade_id": "cell-b80b9bb85d4194ca",
          "locked": false,
          "schema_version": 3,
          "solution": true,
          "task": false
        },
        "ExecuteTime": {
          "end_time": "2025-09-17T15:23:23.944766Z",
          "start_time": "2025-09-17T15:23:23.942648Z"
        },
        "colab": {
          "base_uri": "https://localhost:8080/"
        },
        "id": "DkW7YJupO3TS",
        "outputId": "ec4ad238-5c25-4894-f563-d95c3d1dd61a"
      },
      "source": [
        "def load_data(file1, file2):\n",
        "    df1 = pd.read_csv(file1)\n",
        "    df2 = pd.read_csv(file2)\n",
        "    merged = pd.merge(df1, df2, how=\"outer\", on=['dteday','hr'])\n",
        "    return merged\n",
        "print (1)"
      ],
      "outputs": [
        {
          "output_type": "stream",
          "name": "stdout",
          "text": [
            "1\n"
          ]
        }
      ],
      "execution_count": 4
    },
    {
      "cell_type": "markdown",
      "metadata": {
        "nbgrader": {
          "grade": false,
          "grade_id": "cell-66c03a03105ee793",
          "locked": true,
          "schema_version": 3,
          "solution": false,
          "task": false
        },
        "id": "rOgInXnYO3TS"
      },
      "source": [
        "### Clean data\n",
        "Use the cell below to create and run a function `clean_data()` which cleans up the data as needed.  Things you may want to consider at this stage include:  \n",
        "- Checking for and handling any missing values\n",
        "- Identifying any erroneous data and handling\n",
        "- Identifying outliers and determining whether to remove/adjust them or leave them as-is\n",
        "- Etc."
      ]
    },
    {
      "cell_type": "code",
      "metadata": {
        "nbgrader": {
          "grade": false,
          "grade_id": "cell-5c4638c5ecf84143",
          "locked": false,
          "schema_version": 3,
          "solution": true,
          "task": false
        },
        "ExecuteTime": {
          "end_time": "2025-09-17T15:23:23.952704Z",
          "start_time": "2025-09-17T15:23:23.948862Z"
        },
        "id": "i0HMIIuXO3TS"
      },
      "source": [
        "def clean_data(s1):\n",
        "    # Standardize dates\n",
        "    s1['dteday'] = pd.to_datetime(s1['dteday'], errors='coerce')\n",
        "\n",
        "    # Convert to epoch seconds\n",
        "    s1['dteday'] = (s1['dteday'] + pd.to_timedelta(s1['hr'], unit='h')).astype('int64') // 10**9\n",
        "\n",
        "    # Forcing Data into numeric if not already\n",
        "    for col in s1.columns[1:]:\n",
        "        s1[col] = pd.to_numeric(s1[col], errors='coerce')\n",
        "\n",
        "    # Dropping non-numerics\n",
        "    s2 = s1.dropna()\n",
        "\n",
        "    print(\"Dropped \" + str(len(s1)-len(s2)) + \" rows from our dataset due to missing values.\")\n",
        "\n",
        "    # Remove extrema\n",
        "    numeric_cols = s2.iloc[:, 2:]\n",
        "    s3 = s2.copy()\n",
        "\n",
        "    for col in numeric_cols.columns:\n",
        "        # Get the Series\n",
        "        series = s2[col]\n",
        "\n",
        "        # Calculate mean and std\n",
        "        col_mn = series.mean()\n",
        "        col_st = series.std()\n",
        "\n",
        "        # Mask rows within 2 std\n",
        "        keep_col = (series > col_mn - 2 * col_st) & (series < col_mn + 2 * col_st)\n",
        "\n",
        "        # Drop rows outside this range\n",
        "        s3 = s3[keep_col]\n",
        "    print(\"Dropped \" +str(len(s2)-len(s3))+ \" columns due to extrema\")\n",
        "\n",
        "    s4 = s3.drop(columns=['hr'])\n",
        "\n",
        "    return s4"
      ],
      "outputs": [],
      "execution_count": 5
    },
    {
      "cell_type": "markdown",
      "metadata": {
        "nbgrader": {
          "grade": false,
          "grade_id": "cell-f15ec71cf3a1a85a",
          "locked": true,
          "schema_version": 3,
          "solution": false,
          "task": false
        },
        "id": "-_zXCZTEO3TT"
      },
      "source": [
        "### Split data for training and testing\n",
        "Create and run the function `split_data()` in the cell below to split the data into training and test sets.  You should use all data up to and including July 31 2012 as the training set, and the data for the period August 1 2012 - December 31 2012 as the test set."
      ]
    },
    {
      "cell_type": "code",
      "metadata": {
        "nbgrader": {
          "grade": false,
          "grade_id": "cell-578054bc7e2183d6",
          "locked": false,
          "schema_version": 3,
          "solution": true,
          "task": false
        },
        "ExecuteTime": {
          "end_time": "2025-09-17T15:23:23.958281Z",
          "start_time": "2025-09-17T15:23:23.956168Z"
        },
        "id": "Td3Vgc5wO3TT"
      },
      "source": [
        "def split_data(s1):\n",
        "    # Define cutoff\n",
        "    cutoff = int(pd.to_datetime(\"2012-08-01 00:00:00\").timestamp())\n",
        "\n",
        "    before = s1[s1['dteday'] <= cutoff]\n",
        "    after  = s1[s1['dteday'] > cutoff]\n",
        "\n",
        "    target = 'cnt'\n",
        "\n",
        "    # Split into X and y\n",
        "    X_train = before.drop(columns=[target])\n",
        "    y_train = before[target]\n",
        "\n",
        "    X_test = after.drop(columns=[target])\n",
        "    y_test = after[target]\n",
        "\n",
        "    return X_train, y_train, X_test, y_test\n"
      ],
      "outputs": [],
      "execution_count": null
    },
    {
      "cell_type": "markdown",
      "metadata": {
        "id": "qzHt5UGvO3TT"
      },
      "source": [
        "### Feature Engineering\n",
        "Create and run the function `build_features()` below to create any additional derivative features (e.g. time series features) that you wish to use in modeling.  You will need to apply this function to both your training and test sets."
      ]
    },
    {
      "cell_type": "code",
      "metadata": {
        "ExecuteTime": {
          "end_time": "2025-09-17T15:23:23.962598Z",
          "start_time": "2025-09-17T15:23:23.961127Z"
        },
        "id": "s0qse__OO3TT"
      },
      "source": [],
      "outputs": [],
      "execution_count": null
    },
    {
      "cell_type": "markdown",
      "metadata": {
        "nbgrader": {
          "grade": false,
          "grade_id": "cell-c341995cddfacb2b",
          "locked": true,
          "schema_version": 3,
          "solution": false,
          "task": false
        },
        "id": "fIebPbeZO3TT"
      },
      "source": [
        "### Feature Selection\n",
        "Use the cell below to create and run the function `feature_select()` which performs feature selection using univariate (filter) methods.  After you analyze the correlations, determine whether you would like to remove any features and do so."
      ]
    },
    {
      "cell_type": "code",
      "metadata": {
        "nbgrader": {
          "grade": false,
          "grade_id": "cell-0d3a200b6fa58a74",
          "locked": false,
          "schema_version": 3,
          "solution": true,
          "task": false
        },
        "ExecuteTime": {
          "end_time": "2025-09-17T15:23:23.966329Z",
          "start_time": "2025-09-17T15:23:23.965199Z"
        },
        "id": "CsPXf3POO3TT"
      },
      "source": [],
      "outputs": [],
      "execution_count": null
    },
    {
      "cell_type": "markdown",
      "metadata": {
        "nbgrader": {
          "grade": false,
          "grade_id": "cell-09ef0b02826676d8",
          "locked": true,
          "schema_version": 3,
          "solution": false,
          "task": false
        },
        "id": "QkBfTcMeO3TT"
      },
      "source": [
        "### Prepare Features for Modeling\n",
        "Our final step in the pipeline is to prepare our feature set for modeling.  In particular, in this step we need to ensure that any categorical variables we may be using are encoded as numeric values in order for the model to function properly.  You might also consider scaling some of your data.\n",
        "\n",
        "In the below cell create and run a function `prepare_train_feats()` which prepares the training features."
      ]
    },
    {
      "cell_type": "code",
      "metadata": {
        "nbgrader": {
          "grade": false,
          "grade_id": "cell-ff64eead1e1344c4",
          "locked": false,
          "schema_version": 3,
          "solution": true,
          "task": false
        },
        "ExecuteTime": {
          "end_time": "2025-09-17T15:23:23.969548Z",
          "start_time": "2025-09-17T15:23:23.968433Z"
        },
        "id": "vK4ZcQtPO3TT"
      },
      "source": [],
      "outputs": [],
      "execution_count": null
    },
    {
      "cell_type": "markdown",
      "metadata": {
        "nbgrader": {
          "grade": false,
          "grade_id": "cell-051c3772cf091103",
          "locked": true,
          "schema_version": 3,
          "solution": false,
          "task": false
        },
        "id": "Bxbk124hO3TU"
      },
      "source": [
        "We also need to prepare the features in our test set in the same way to feed into the model.  Use the cell below for the function `prepare_test_feats()` which prepares your test set features."
      ]
    },
    {
      "cell_type": "code",
      "metadata": {
        "nbgrader": {
          "grade": false,
          "grade_id": "cell-fb2f6842a35928a4",
          "locked": false,
          "schema_version": 3,
          "solution": true,
          "task": false
        },
        "ExecuteTime": {
          "end_time": "2025-09-17T15:23:23.972636Z",
          "start_time": "2025-09-17T15:23:23.971570Z"
        },
        "id": "vl2rktWCO3TU"
      },
      "source": [],
      "outputs": [],
      "execution_count": null
    },
    {
      "cell_type": "markdown",
      "metadata": {
        "nbgrader": {
          "grade": false,
          "grade_id": "cell-cd9d8e5013253357",
          "locked": true,
          "schema_version": 3,
          "solution": false,
          "task": false
        },
        "id": "IqtTuTDFO3TU"
      },
      "source": [
        "### Run pipeline\n",
        "Finally, let's bring everything together in a function to run the entire pipeline for our training data.  Complete the function `run_pipeline()` in the cell below.  The function should call any/all of the functions you have defined above which are needed to load the data, transform it and prepare the features for both the training set and the test set."
      ]
    },
    {
      "cell_type": "code",
      "metadata": {
        "nbgrader": {
          "grade": false,
          "grade_id": "cell-f914f1eb4902eff1",
          "locked": false,
          "schema_version": 3,
          "solution": true,
          "task": false
        },
        "ExecuteTime": {
          "end_time": "2025-09-17T15:23:23.976757Z",
          "start_time": "2025-09-17T15:23:23.974943Z"
        },
        "id": "mVWxockAO3TU"
      },
      "source": [
        "def run_pipeline(bike_filename, weather_filename):\n",
        "    '''\n",
        "    Runs your pipeline (calling the above functions as needed) to transform the raw data into the training and test data sets for modeling\n",
        "\n",
        "    Inputs:\n",
        "        bike_filename(str): name of the file containing the bike data\n",
        "        weather_filename(str): name of the file containing the weather data\n",
        "\n",
        "    Returns:\n",
        "        X_train(pd.DataFrame): dataframe containing the training set inputs\n",
        "        y_train(pd.DataFrame): dataframe containing the training set labels\n",
        "        X_test(pd.DataFrame): dataframe containing the test set inputs\n",
        "        y_test(pd.DataFrame): dataframe containing the test set labels\n",
        "    '''\n",
        "    merged = load_data(bike_filename,weather_filename)\n",
        "    clean = clean_data(merged)\n",
        "    X_train, y_train, X_test, y_test = split_data(clean)\n",
        "\n",
        "    return X_train, y_train, X_test, y_test\n",
        "\n",
        ""
      ],
      "outputs": [],
      "execution_count": null
    },
    {
      "cell_type": "markdown",
      "metadata": {
        "nbgrader": {
          "grade": false,
          "grade_id": "cell-278cf4c4ab73ce46",
          "locked": true,
          "schema_version": 3,
          "solution": false,
          "task": false
        },
        "id": "2fe2fU0LO3TU"
      },
      "source": [
        "Now that we've prepared our features we are ready to run our model.  Run the cell below, which trains the model on the training set and calculates and reports the mean squared error (MSE) on the test set.  If everything went well you should have a MSE below 18500"
      ]
    },
    {
      "cell_type": "code",
      "metadata": {
        "nbgrader": {
          "grade": false,
          "grade_id": "cell-1d84dda8b73e82cc",
          "locked": true,
          "schema_version": 3,
          "solution": false,
          "task": false
        },
        "ExecuteTime": {
          "end_time": "2025-09-17T15:23:24.020714Z",
          "start_time": "2025-09-17T15:23:23.981255Z"
        },
        "id": "I6BKOmj8O3TU",
        "outputId": "b853e68f-51f9-4041-c27e-5435b92427e2"
      },
      "source": [
        "bike_datafile = \"2011-2012_bikes.csv\"\n",
        "weather_datafile = \"2011-2012_weather_messy.csv\"\n",
        "X_train, y_train, X_test, y_test = run_pipeline(bike_datafile, weather_datafile)\n",
        "mse_score = run_model(X_train, y_train, X_test, y_test)\n",
        "print('Mean Squared Error on the test set: {:.2f}'.format(mse_score))\n",
        "\n",
        "assert mse_score < 18500"
      ],
      "outputs": [
        {
          "name": "stdout",
          "output_type": "stream",
          "text": [
            "Dropped 58 rows from our dataset due to missing values.\n",
            "Dropped 3416 columns due to extrema\n",
            "Mean Squared Error on the test set: 17888.35\n"
          ]
        }
      ],
      "execution_count": null
    }
  ],
  "metadata": {
    "celltoolbar": "Create Assignment",
    "kernelspec": {
      "display_name": "aipi520",
      "language": "python",
      "name": "python3"
    },
    "language_info": {
      "codemirror_mode": {
        "name": "ipython",
        "version": 3
      },
      "file_extension": ".py",
      "mimetype": "text/x-python",
      "name": "python",
      "nbconvert_exporter": "python",
      "pygments_lexer": "ipython3",
      "version": "3.9.6"
    },
    "colab": {
      "provenance": []
    }
  },
  "nbformat": 4,
  "nbformat_minor": 0
}